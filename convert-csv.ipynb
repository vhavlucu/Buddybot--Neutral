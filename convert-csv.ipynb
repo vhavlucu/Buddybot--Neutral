{
 "cells": [
  {
   "cell_type": "code",
   "execution_count": 1,
   "metadata": {},
   "outputs": [
    {
     "name": "stdout",
     "output_type": "stream",
     "text": [
      "Neutral responses saved to neutral_responses.csv\n",
      "Empathic responses saved to empathic_responses.csv\n"
     ]
    }
   ],
   "source": [
    "import pandas as pd\n",
    "\n",
    "# Load the \"Questions and Responses\" CSV file\n",
    "questions_and_responses_file_path = \"20 questions buddybot - Questions and responses.csv\"\n",
    "\n",
    "# Load the CSV into a pandas DataFrame\n",
    "questions_responses_df = pd.read_csv(questions_and_responses_file_path)\n",
    "\n",
    "# Initialize lists to store the new data for both neutral and empathic responses\n",
    "final_neutral_data = []\n",
    "final_empathic_data = []\n",
    "\n",
    "# Iterate over the dataframe and create rows with the required format\n",
    "current_question = None\n",
    "neutral_row = []\n",
    "empathic_row = []\n",
    "\n",
    "for index, row in questions_responses_df.iterrows():\n",
    "    if pd.notnull(row['Unnamed: 0']):  # Detect a new question\n",
    "        if neutral_row:  # If there's existing data, save it\n",
    "            final_neutral_data.append(neutral_row)\n",
    "            final_empathic_data.append(empathic_row)\n",
    "\n",
    "        # Start new rows for a new question, trimming whitespace and quotes\n",
    "        current_question = row['Unnamed: 0'].strip(' \"\\'')\n",
    "        neutral_row = [current_question]\n",
    "        empathic_row = [current_question]\n",
    "    \n",
    "    # Add options and responses to the current question's row, trimming whitespace and quotes\n",
    "    option = row['Unnamed: 1']\n",
    "    neutral_response = row['Neutral']\n",
    "    empathic_response = row['Empathetic']\n",
    "    \n",
    "    if pd.notnull(option):  # If option exists, trim whitespace and quotes\n",
    "        option = option.strip(' \"\\'') if pd.notnull(option) else ''\n",
    "        neutral_response = neutral_response.strip(' \"\\'') if pd.notnull(neutral_response) else ''\n",
    "        empathic_response = empathic_response.strip(' \"\\'') if pd.notnull(empathic_response) else ''\n",
    "        \n",
    "        neutral_row.extend([option, neutral_response])\n",
    "        empathic_row.extend([option, empathic_response])\n",
    "\n",
    "# Append the last question's data\n",
    "if neutral_row:\n",
    "    final_neutral_data.append(neutral_row)\n",
    "    final_empathic_data.append(empathic_row)\n",
    "\n",
    "# Create DataFrames for neutral and empathic versions\n",
    "neutral_df = pd.DataFrame(final_neutral_data)\n",
    "empathic_df = pd.DataFrame(final_empathic_data)\n",
    "\n",
    "# Save final CSV files, separated by semicolons\n",
    "neutral_output_path = 'neutral_responses.csv'\n",
    "empathic_output_path = 'empathic_responses.csv'\n",
    "\n",
    "neutral_df.to_csv(neutral_output_path, sep=';', index=False, header=False)\n",
    "empathic_df.to_csv(empathic_output_path, sep=';', index=False, header=False)\n",
    "\n",
    "print(f'Neutral responses saved to {neutral_output_path}')\n",
    "print(f'Empathic responses saved to {empathic_output_path}')\n"
   ]
  },
  {
   "cell_type": "code",
   "execution_count": null,
   "metadata": {},
   "outputs": [],
   "source": []
  }
 ],
 "metadata": {
  "kernelspec": {
   "display_name": "Python 3",
   "language": "python",
   "name": "python3"
  },
  "language_info": {
   "codemirror_mode": {
    "name": "ipython",
    "version": 3
   },
   "file_extension": ".py",
   "mimetype": "text/x-python",
   "name": "python",
   "nbconvert_exporter": "python",
   "pygments_lexer": "ipython3",
   "version": "3.9.6"
  }
 },
 "nbformat": 4,
 "nbformat_minor": 2
}
